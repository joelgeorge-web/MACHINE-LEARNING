{
 "cells": [
  {
   "cell_type": "markdown",
   "metadata": {},
   "source": [
    "### NLP Program"
   ]
  },
  {
   "cell_type": "code",
   "execution_count": 2,
   "metadata": {},
   "outputs": [],
   "source": [
    "import pandas as pd\n",
    "\n",
    "df = pd.read_csv('IMDB Dataset.csv')"
   ]
  },
  {
   "cell_type": "code",
   "execution_count": 3,
   "metadata": {},
   "outputs": [
    {
     "data": {
      "text/html": [
       "<div>\n",
       "<style scoped>\n",
       "    .dataframe tbody tr th:only-of-type {\n",
       "        vertical-align: middle;\n",
       "    }\n",
       "\n",
       "    .dataframe tbody tr th {\n",
       "        vertical-align: top;\n",
       "    }\n",
       "\n",
       "    .dataframe thead th {\n",
       "        text-align: right;\n",
       "    }\n",
       "</style>\n",
       "<table border=\"1\" class=\"dataframe\">\n",
       "  <thead>\n",
       "    <tr style=\"text-align: right;\">\n",
       "      <th></th>\n",
       "      <th>review</th>\n",
       "      <th>sentiment</th>\n",
       "    </tr>\n",
       "  </thead>\n",
       "  <tbody>\n",
       "    <tr>\n",
       "      <th>0</th>\n",
       "      <td>One of the other reviewers has mentioned that ...</td>\n",
       "      <td>positive</td>\n",
       "    </tr>\n",
       "    <tr>\n",
       "      <th>1</th>\n",
       "      <td>A wonderful little production. &lt;br /&gt;&lt;br /&gt;The...</td>\n",
       "      <td>positive</td>\n",
       "    </tr>\n",
       "    <tr>\n",
       "      <th>2</th>\n",
       "      <td>I thought this was a wonderful way to spend ti...</td>\n",
       "      <td>positive</td>\n",
       "    </tr>\n",
       "    <tr>\n",
       "      <th>3</th>\n",
       "      <td>Basically there's a family where a little boy ...</td>\n",
       "      <td>negative</td>\n",
       "    </tr>\n",
       "    <tr>\n",
       "      <th>4</th>\n",
       "      <td>Petter Mattei's \"Love in the Time of Money\" is...</td>\n",
       "      <td>positive</td>\n",
       "    </tr>\n",
       "    <tr>\n",
       "      <th>5</th>\n",
       "      <td>Probably my all-time favorite movie, a story o...</td>\n",
       "      <td>positive</td>\n",
       "    </tr>\n",
       "    <tr>\n",
       "      <th>6</th>\n",
       "      <td>I sure would like to see a resurrection of a u...</td>\n",
       "      <td>positive</td>\n",
       "    </tr>\n",
       "    <tr>\n",
       "      <th>7</th>\n",
       "      <td>This show was an amazing, fresh &amp; innovative i...</td>\n",
       "      <td>negative</td>\n",
       "    </tr>\n",
       "    <tr>\n",
       "      <th>8</th>\n",
       "      <td>Encouraged by the positive comments about this...</td>\n",
       "      <td>negative</td>\n",
       "    </tr>\n",
       "    <tr>\n",
       "      <th>9</th>\n",
       "      <td>If you like original gut wrenching laughter yo...</td>\n",
       "      <td>positive</td>\n",
       "    </tr>\n",
       "  </tbody>\n",
       "</table>\n",
       "</div>"
      ],
      "text/plain": [
       "                                              review sentiment\n",
       "0  One of the other reviewers has mentioned that ...  positive\n",
       "1  A wonderful little production. <br /><br />The...  positive\n",
       "2  I thought this was a wonderful way to spend ti...  positive\n",
       "3  Basically there's a family where a little boy ...  negative\n",
       "4  Petter Mattei's \"Love in the Time of Money\" is...  positive\n",
       "5  Probably my all-time favorite movie, a story o...  positive\n",
       "6  I sure would like to see a resurrection of a u...  positive\n",
       "7  This show was an amazing, fresh & innovative i...  negative\n",
       "8  Encouraged by the positive comments about this...  negative\n",
       "9  If you like original gut wrenching laughter yo...  positive"
      ]
     },
     "execution_count": 3,
     "metadata": {},
     "output_type": "execute_result"
    }
   ],
   "source": [
    "df.head(10)"
   ]
  },
  {
   "cell_type": "code",
   "execution_count": 4,
   "metadata": {},
   "outputs": [
    {
     "name": "stdout",
     "output_type": "stream",
     "text": [
      "One of the other reviewers has mentioned that after watching just 1 Oz episode you'll be hooked. They are right, as this is exactly what happened with me.<br /><br />The first thing that struck me about Oz was its brutality and unflinching scenes of violence, which set in right from the word GO. Trust me, this is not a show for the faint hearted or timid. This show pulls no punches with regards to drugs, sex or violence. Its is hardcore, in the classic use of the word.<br /><br />It is called OZ as that is the nickname given to the Oswald Maximum Security State Penitentary. It focuses mainly on Emerald City, an experimental section of the prison where all the cells have glass fronts and face inwards, so privacy is not high on the agenda. Em City is home to many..Aryans, Muslims, gangstas, Latinos, Christians, Italians, Irish and more....so scuffles, death stares, dodgy dealings and shady agreements are never far away.<br /><br />I would say the main appeal of the show is due to the fact that it goes where other shows wouldn't dare. Forget pretty pictures painted for mainstream audiences, forget charm, forget romance...OZ doesn't mess around. The first episode I ever saw struck me as so nasty it was surreal, I couldn't say I was ready for it, but as I watched more, I developed a taste for Oz, and got accustomed to the high levels of graphic violence. Not just violence, but injustice (crooked guards who'll be sold out for a nickel, inmates who'll kill on order and get away with it, well mannered, middle class inmates being turned into prison bitches due to their lack of street skills or prison experience) Watching Oz, you may become comfortable with what is uncomfortable viewing....thats if you can get in touch with your darker side.\n"
     ]
    }
   ],
   "source": [
    "#print the first entry\n",
    "\n",
    "print(df['review'][0])"
   ]
  },
  {
   "cell_type": "code",
   "execution_count": 5,
   "metadata": {},
   "outputs": [],
   "source": [
    "Review = df['review']"
   ]
  },
  {
   "cell_type": "code",
   "execution_count": 6,
   "metadata": {},
   "outputs": [
    {
     "name": "stdout",
     "output_type": "stream",
     "text": [
      "0        One of the other reviewers has mentioned that ...\n",
      "1        A wonderful little production   br    br   The...\n",
      "2        I thought this was a wonderful way to spend ti...\n",
      "3        Basically there s a family where a little boy ...\n",
      "4        Petter Mattei s  Love in the Time of Money  is...\n",
      "                               ...                        \n",
      "49995    I thought this movie did a down right good job...\n",
      "49996    Bad plot  bad dialogue  bad acting  idiotic di...\n",
      "49997    I am a Catholic taught in parochial elementary...\n",
      "49998    I m going to have to disagree with the previou...\n",
      "49999    No one expects the Star Trek movies to be high...\n",
      "Name: review, Length: 50000, dtype: object\n"
     ]
    }
   ],
   "source": [
    "#use regular expression to sub everything except letters and numbers and replace with empty string in all the rows in review column\n",
    "\n",
    "import re\n",
    "\n",
    "Review = Review.apply(lambda x: re.sub('[^a-zA-Z0-9]', ' ', x))\n",
    "\n",
    "\n",
    "print(Review)"
   ]
  },
  {
   "cell_type": "code",
   "execution_count": 7,
   "metadata": {},
   "outputs": [
    {
     "name": "stdout",
     "output_type": "stream",
     "text": [
      "0        [one, of, the, other, reviewers, has, mentione...\n",
      "1        [a, wonderful, little, production, br, br, the...\n",
      "2        [i, thought, this, was, a, wonderful, way, to,...\n",
      "3        [basically, there, s, a, family, where, a, lit...\n",
      "4        [petter, mattei, s, love, in, the, time, of, m...\n",
      "                               ...                        \n",
      "49995    [i, thought, this, movie, did, a, down, right,...\n",
      "49996    [bad, plot, bad, dialogue, bad, acting, idioti...\n",
      "49997    [i, am, a, catholic, taught, in, parochial, el...\n",
      "49998    [i, m, going, to, have, to, disagree, with, th...\n",
      "49999    [no, one, expects, the, star, trek, movies, to...\n",
      "Name: review, Length: 50000, dtype: object\n"
     ]
    }
   ],
   "source": [
    "import nltk\n",
    "from nltk.tokenize import ToktokTokenizer\n",
    "tokenizer = ToktokTokenizer()\n",
    "\n",
    "#tokenize the review column\n",
    "\n",
    "Review = Review.apply(lambda x: tokenizer.tokenize(x.lower()))\n",
    "\n",
    "print(Review)"
   ]
  },
  {
   "cell_type": "code",
   "execution_count": 8,
   "metadata": {},
   "outputs": [
    {
     "name": "stdout",
     "output_type": "stream",
     "text": [
      "0        [one, of, the, other, review, ha, mention, tha...\n",
      "1        [a, wonder, littl, product, br, br, the, film,...\n",
      "2        [i, thought, thi, wa, a, wonder, way, to, spen...\n",
      "3        [basic, there, s, a, famili, where, a, littl, ...\n",
      "4        [petter, mattei, s, love, in, the, time, of, m...\n",
      "                               ...                        \n",
      "49995    [i, thought, thi, movi, did, a, down, right, g...\n",
      "49996    [bad, plot, bad, dialogu, bad, act, idiot, dir...\n",
      "49997    [i, am, a, cathol, taught, in, parochi, elemen...\n",
      "49998    [i, m, go, to, have, to, disagre, with, the, p...\n",
      "49999    [no, one, expect, the, star, trek, movi, to, b...\n",
      "Name: review, Length: 50000, dtype: object\n"
     ]
    }
   ],
   "source": [
    "#Stem the words\n",
    "\n",
    "from nltk.stem import PorterStemmer\n",
    "ps = PorterStemmer()\n",
    "\n",
    "Review = Review.apply(lambda x: [ps.stem(i) for i in x])\n",
    "\n",
    "print(Review)"
   ]
  },
  {
   "cell_type": "code",
   "execution_count": 9,
   "metadata": {},
   "outputs": [
    {
     "name": "stdout",
     "output_type": "stream",
     "text": [
      "0        [one, review, ha, mention, watch, 1, oz, episo...\n",
      "1        [wonder, littl, product, br, br, film, techniq...\n",
      "2        [thought, thi, wa, wonder, way, spend, time, h...\n",
      "3        [basic, famili, littl, boy, jake, think, zombi...\n",
      "4        [petter, mattei, love, time, money, visual, st...\n",
      "                               ...                        \n",
      "49995    [thought, thi, movi, right, good, job, creativ...\n",
      "49996    [bad, plot, bad, dialogu, bad, act, idiot, dir...\n",
      "49997    [cathol, taught, parochi, elementari, school, ...\n",
      "49998    [go, disagre, previou, comment, side, maltin, ...\n",
      "49999    [one, expect, star, trek, movi, high, art, fan...\n",
      "Name: review, Length: 50000, dtype: object\n"
     ]
    }
   ],
   "source": [
    "#remove stop words\n",
    "\n",
    "from nltk.corpus import stopwords\n",
    "stop_words = stopwords.words('english')\n",
    "\n",
    "Review = Review.apply(lambda x: [i for i in x if i not in stop_words])\n",
    "\n",
    "print(Review)"
   ]
  },
  {
   "cell_type": "code",
   "execution_count": 10,
   "metadata": {},
   "outputs": [
    {
     "name": "stdout",
     "output_type": "stream",
     "text": [
      "['one', 'review', 'ha', 'mention', 'watch', '1', 'oz', 'episod', 'hook', 'right', 'thi', 'exactli', 'happen', 'br', 'br', 'first', 'thing', 'struck', 'oz', 'wa', 'brutal', 'unflinch', 'scene', 'violenc', 'set', 'right', 'word', 'go', 'trust', 'thi', 'show', 'faint', 'heart', 'timid', 'thi', 'show', 'pull', 'punch', 'regard', 'drug', 'sex', 'violenc', 'hardcor', 'classic', 'use', 'word', 'br', 'br', 'call', 'oz', 'nicknam', 'given', 'oswald', 'maximum', 'secur', 'state', 'penitentari', 'focus', 'mainli', 'emerald', 'citi', 'experiment', 'section', 'prison', 'cell', 'glass', 'front', 'face', 'inward', 'privaci', 'high', 'agenda', 'em', 'citi', 'home', 'mani', 'aryan', 'muslim', 'gangsta', 'latino', 'christian', 'italian', 'irish', 'scuffl', 'death', 'stare', 'dodgi', 'deal', 'shadi', 'agreement', 'never', 'far', 'away', 'br', 'br', 'would', 'say', 'main', 'appeal', 'show', 'due', 'fact', 'goe', 'show', 'dare', 'forget', 'pretti', 'pictur', 'paint', 'mainstream', 'audienc', 'forget', 'charm', 'forget', 'romanc', 'oz', 'mess', 'around', 'first', 'episod', 'ever', 'saw', 'struck', 'nasti', 'wa', 'surreal', 'say', 'wa', 'readi', 'watch', 'develop', 'tast', 'oz', 'got', 'accustom', 'high', 'level', 'graphic', 'violenc', 'violenc', 'injustic', 'crook', 'guard', 'sold', 'nickel', 'inmat', 'kill', 'order', 'get', 'away', 'well', 'manner', 'middl', 'class', 'inmat', 'turn', 'prison', 'bitch', 'due', 'lack', 'street', 'skill', 'prison', 'experi', 'watch', 'oz', 'may', 'becom', 'comfort', 'uncomfort', 'view', 'get', 'touch', 'darker', 'side']\n"
     ]
    }
   ],
   "source": [
    "print(Review[0])"
   ]
  },
  {
   "cell_type": "code",
   "execution_count": 11,
   "metadata": {},
   "outputs": [
    {
     "name": "stdout",
     "output_type": "stream",
     "text": [
      "0        one review ha mention watch 1 oz episod hook r...\n",
      "1        wonder littl product br br film techniqu veri ...\n",
      "2        thought thi wa wonder way spend time hot summe...\n",
      "3        basic famili littl boy jake think zombi hi clo...\n",
      "4        petter mattei love time money visual stun film...\n",
      "                               ...                        \n",
      "49995    thought thi movi right good job creativ origin...\n",
      "49996    bad plot bad dialogu bad act idiot direct anno...\n",
      "49997    cathol taught parochi elementari school nun ta...\n",
      "49998    go disagre previou comment side maltin thi one...\n",
      "49999    one expect star trek movi high art fan expect ...\n",
      "Name: review, Length: 50000, dtype: object\n"
     ]
    }
   ],
   "source": [
    "#remove the token from the stemmed words that are not in the stop words\n",
    "\n",
    "Review = Review.apply(lambda x: ' '.join(x))\n",
    "\n",
    "print(Review)"
   ]
  },
  {
   "cell_type": "code",
   "execution_count": 12,
   "metadata": {},
   "outputs": [],
   "source": [
    "#convert english text to numeric vectors\n",
    "\n",
    "from sklearn.feature_extraction.text import CountVectorizer\n",
    "cv = CountVectorizer()\n",
    "\n",
    "X = cv.fit_transform(Review)\n",
    "\n"
   ]
  },
  {
   "cell_type": "code",
   "execution_count": 13,
   "metadata": {},
   "outputs": [
    {
     "data": {
      "text/plain": [
       "array([[0, 0, 0, ..., 0, 0, 0],\n",
       "       [0, 0, 0, ..., 0, 0, 0],\n",
       "       [0, 0, 0, ..., 0, 0, 0],\n",
       "       ...,\n",
       "       [0, 0, 0, ..., 0, 0, 0],\n",
       "       [0, 0, 0, ..., 0, 0, 0],\n",
       "       [0, 0, 0, ..., 0, 0, 0]], dtype=int64)"
      ]
     },
     "execution_count": 13,
     "metadata": {},
     "output_type": "execute_result"
    }
   ],
   "source": [
    "X.toarray()"
   ]
  },
  {
   "cell_type": "code",
   "execution_count": 14,
   "metadata": {},
   "outputs": [],
   "source": [
    "#convert the target column to numeric\n",
    "\n",
    "from sklearn.preprocessing import LabelEncoder\n",
    "le = LabelEncoder()\n",
    "\n",
    "y = le.fit_transform(df['sentiment'])\n"
   ]
  },
  {
   "cell_type": "code",
   "execution_count": 15,
   "metadata": {},
   "outputs": [],
   "source": [
    "#split the data into train and test\n",
    "\n",
    "from sklearn.model_selection import train_test_split\n",
    "X_train, X_test, y_train, y_test = train_test_split(X,y, test_size=.2, random_state=42)\n"
   ]
  },
  {
   "cell_type": "code",
   "execution_count": 16,
   "metadata": {},
   "outputs": [],
   "source": [
    "#train the model\n",
    "\n",
    "from sklearn.naive_bayes import MultinomialNB\n",
    "\n",
    "model = MultinomialNB()\n",
    "\n",
    "model.fit(X_train, y_train)\n",
    "\n",
    "import pickle\n",
    "#save the model as pickle file\n",
    "pickle.dump(model, open('model.pkl','wb'))\n",
    "\n"
   ]
  },
  {
   "cell_type": "code",
   "execution_count": 17,
   "metadata": {},
   "outputs": [],
   "source": [
    "from sklearn.metrics import accuracy_score"
   ]
  },
  {
   "cell_type": "code",
   "execution_count": 25,
   "metadata": {},
   "outputs": [
    {
     "name": "stdout",
     "output_type": "stream",
     "text": [
      "The review is positive\n",
      "The probability of the review being negative is:  5.20208916003152e-20\n",
      "The probability of the review being positive is:  1.0\n"
     ]
    }
   ],
   "source": [
    "# #get a movie name from the user\n",
    "# movie_name = input(\"Enter the movie name: \")\n",
    "\n",
    "# link = \"https://www.imdb.com/\"\n",
    "\n",
    "# import pyautogui\n",
    "# pyautogui.hotkey('alt', 'space')\n",
    "# pyautogui.press('delete')\n",
    "# pyautogui.typewrite(link)\n",
    "# pyautogui.sleep(3)\n",
    "# pyautogui.press('enter')\n",
    "# pyautogui.sleep(20)\n",
    "# pyautogui.press('tab', presses=4, interval=0.5)         \n",
    "# pyautogui.typewrite(movie_name)\n",
    "# pyautogui.press('enter')\n",
    "# pyautogui.sleep(5)\n",
    "# #press tab 11 times in a single line of code\n",
    "# pyautogui.press('tab', presses=11, interval=0.5)\n",
    "# pyautogui.sleep(5)\n",
    "# pyautogui.press('enter')\n",
    "# pyautogui.sleep(5)\n",
    "# pyautogui.hotkey('ctrl', 'f')\n",
    "# pyautogui.typewrite(\"User Reviews\")\n",
    "# pyautogui.sleep(5)\n",
    "# pyautogui.press('enter')\n",
    "# pyautogui.sleep(0.5)\n",
    "# pyautogui.press('enter')\n",
    "# pyautogui.sleep(0.5)\n",
    "# pyautogui.press('enter')\n",
    "# pyautogui.sleep(0.5)\n",
    "# pyautogui.press('esc')\n",
    "# pyautogui.sleep(0.5)\n",
    "# pyautogui.press('enter')\n",
    "# pyautogui.sleep(0.5)\n",
    "# pyautogui.hotkey('ctrl','a')\n",
    "# pyautogui.sleep(0.5)\n",
    "# pyautogui.hotkey('ctrl','c')\n",
    "# pyautogui.sleep(1)\n",
    "# pyautogui.hotkey('alt', 'f4')\n",
    "# pyautogui.sleep(1)\n",
    "\n",
    "#test with user input with preprocessing\n",
    "\n",
    "user_input = input(\"Enter the review: \")\n",
    "# pyautogui.sleep(2)\n",
    "# pyautogui.hotkey('ctrl', 'v')\n",
    "user_input = [user_input]\n",
    "\n",
    "user_input = pd.Series(user_input)\n",
    "\n",
    "user_input = user_input.apply(lambda x: re.sub('[^a-zA-Z0-9]', ' ', x))\n",
    "\n",
    "user_input = user_input.apply(lambda x: tokenizer.tokenize(x.lower()))\n",
    "\n",
    "user_input = user_input.apply(lambda x: [ps.stem(i) for i in x])\n",
    "\n",
    "user_input = user_input.apply(lambda x: [i for i in x if i not in stop_words])\n",
    "\n",
    "\n",
    "user_input = user_input.apply(lambda x: ' '.join(x))\n",
    "\n",
    "user_input = cv.transform(user_input)\n",
    "\n",
    "model = pickle.load(open('model.pkl','rb'))\n",
    "user_pred = model.predict(user_input)\n",
    "\n",
    "#print if the review is positive or negative\n",
    "\n",
    "if user_pred == 1:\n",
    "    print(\"The review is positive\")\n",
    "else:\n",
    "    print(\"The review is negative\")\n",
    "\n",
    "#predict the probability of the review being positive or negative\n",
    "user_pred_prob = model.predict_proba(user_input)\n",
    "\n",
    "#print the probability of the input being positive or negative with their respetive names\n",
    "\n",
    "print(\"The probability of the review being negative is: \", user_pred_prob[0][0])\n",
    "print(\"The probability of the review being positive is: \", user_pred_prob[0][1])"
   ]
  }
 ],
 "metadata": {
  "kernelspec": {
   "display_name": "Python 3",
   "language": "python",
   "name": "python3"
  },
  "language_info": {
   "codemirror_mode": {
    "name": "ipython",
    "version": 3
   },
   "file_extension": ".py",
   "mimetype": "text/x-python",
   "name": "python",
   "nbconvert_exporter": "python",
   "pygments_lexer": "ipython3",
   "version": "3.11.4"
  }
 },
 "nbformat": 4,
 "nbformat_minor": 2
}
